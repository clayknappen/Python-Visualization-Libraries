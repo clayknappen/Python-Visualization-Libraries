{
 "cells": [
  {
   "cell_type": "markdown",
   "metadata": {},
   "source": [
    "# Waffle Plots\n",
    "Like many people, I have strong opinions about pie charts. Mostly that you shouldn't use them. One alternative that has been suggested is to create what's called a waffle plot (because it <i>had</i> to be a food name). The waffle plot is essentially a rectangular version of the pie chart. Unfortunately, <code>matplotlib</code> does not have a built-in waffle plot. This notebook shows my efforts to create a waffle plot function using <code>matplotlib</code>. \n",
    "\n",
    "# Introduction\n",
    "To begin, I'm not the first person to try this. I drew a lot of inspiration (and code) from https://stackoverflow.com/questions/41400136/how-to-do-waffle-charts-in-python-square-piechart.  \n",
    "Shoutout especially to stackoverflow user https://stackoverflow.com/users/3417688/justin-fletcher whose answer was my starting point for this notebook. \n",
    "\n",
    "Having said that though, there were a few things I wanted to change. In his original answer, there were two legends: one showing the color gradient and a second showing the classes with their numeric value. I removed the first legend since we're dealing with a discrete variable (categories) rather than a continuous one hence the color gradient which would have been appropriate for a heat map was not really meaningful for the waffle plot. I moved the second legend (showing the classes) from beneath the waffle plot to the right hand side. This second legend also appeared to be using colors that did not match the actual colors used in the plot (grey for instance instead of light blue). I think that the problem was that they were manually calculating the color values multiple times within the <code>for i, c in enumerate(classes)</code> loop. I got around this by using <code>np.linspace</code> to calculate all the values up front. I changed the function definition to have default height, width, and colormap so that I could get rid the namespace of a couple of superfluous variables. \n",
    "\n",
    "# Code\n",
    "Now for the code, feel free to copy/paste in your work. "
   ]
  },
  {
   "cell_type": "code",
   "execution_count": 1,
   "metadata": {},
   "outputs": [],
   "source": [
    "import numpy as np\n",
    "import pandas as pd\n",
    "import matplotlib as mpl\n",
    "import matplotlib.pyplot as plt\n",
    "import matplotlib.patches as mpatches\n",
    "\n",
    "# Let's make a default data frame with catagories and values.\n",
    "df = pd.DataFrame({ 'catagories': ['cat1', 'cat2', 'cat3', 'cat4'], \n",
    "                    'values': [84911, 14414, 10062, 8565] })\n",
    "\n",
    "classes = df['catagories']\n",
    "values = df['values']\n",
    "\n",
    "def waffle_plot(classes, values, height=7, width=20, colormap=plt.cm.coolwarm):\n",
    "\n",
    "    # Compute the portion of the total assigned to each class.\n",
    "    class_portion = [float(v)/sum(values) for v in values]\n",
    "\n",
    "    # Compute the number of tiles for each catagories.\n",
    "    total_tiles = width * height\n",
    "    tiles_per_class = [round(p*total_tiles) for p in class_portion]\n",
    "\n",
    "    # Make a dummy matrix for use in plotting.\n",
    "    plot_matrix = np.zeros((height, width))\n",
    "\n",
    "    # Popoulate the dummy matrix with integer values.\n",
    "    class_index = 0\n",
    "    tile_index = 0\n",
    "\n",
    "    # Iterate over each tile.\n",
    "    for col in range(width):\n",
    "        for row in range(height):\n",
    "            tile_index += 1\n",
    "\n",
    "            # If the number of tiles populated is sufficient for this class...\n",
    "            if tile_index > sum(tiles_per_class[0:class_index]):\n",
    "\n",
    "                # ...increment to the next class.\n",
    "                class_index += 1       \n",
    "\n",
    "            # Set the class value to an integer, which increases with class.\n",
    "            plot_matrix[row, col] = class_index\n",
    "\n",
    "    # Create a new figure.\n",
    "    fig = plt.figure()\n",
    "\n",
    "    # Using matshow solves your \"non-square\" problem. \n",
    "    plt.matshow(plot_matrix, cmap=colormap)\n",
    "\n",
    "    # Get the axis.\n",
    "    ax = plt.gca()\n",
    "\n",
    "    # Minor ticks\n",
    "    ax.set_xticks(np.arange(-.5, (width), 1), minor=True);\n",
    "    ax.set_yticks(np.arange(-.5, (height), 1), minor=True);\n",
    "\n",
    "    # Gridlines based on minor ticks\n",
    "    ax.grid(which='minor', color='w', linestyle='-', linewidth=2)\n",
    "\n",
    "    # Manually constructing a legend solves your \"catagorical\" problem.\n",
    "    legend_handles = []\n",
    "    color_val = colormap(np.linspace(0, 1, len(classes)))\n",
    "    for i, c in enumerate(classes):\n",
    "        label_str = c + \" (\" + str(values[i]) + \")\"\n",
    "        legend_handles.append(mpatches.Patch(color=color_val[i], label=label_str))\n",
    "\n",
    "    # Add the legend. Put it outside and to the right. \n",
    "    plt.legend(handles=legend_handles, ncol=1,\n",
    "               bbox_to_anchor=(0.68, 0.5, 0.5, 0.5))\n",
    "\n",
    "    plt.xticks([])\n",
    "    plt.yticks([])\n",
    "    plt.show()"
   ]
  },
  {
   "cell_type": "markdown",
   "metadata": {},
   "source": [
    "# Results"
   ]
  },
  {
   "cell_type": "code",
   "execution_count": 2,
   "metadata": {},
   "outputs": [
    {
     "data": {
      "text/plain": [
       "<Figure size 432x288 with 0 Axes>"
      ]
     },
     "metadata": {},
     "output_type": "display_data"
    },
    {
     "data": {
      "image/png": "[encoded data removed]",
      "text/plain": [
       "<Figure size 822.857x288 with 1 Axes>"
      ]
     },
     "metadata": {},
     "output_type": "display_data"
    }
   ],
   "source": [
    "# Call the plotting function.\n",
    "waffle_plot(classes, values)"
   ]
  },
  {
   "cell_type": "code",
   "execution_count": 3,
   "metadata": {},
   "outputs": [
    {
     "data": {
      "text/html": [
       "<div>\n",
       "<style scoped>\n",
       "    .dataframe tbody tr th:only-of-type {\n",
       "        vertical-align: middle;\n",
       "    }\n",
       "\n",
       "    .dataframe tbody tr th {\n",
       "        vertical-align: top;\n",
       "    }\n",
       "\n",
       "    .dataframe thead th {\n",
       "        text-align: right;\n",
       "    }\n",
       "</style>\n",
       "<table border=\"1\" class=\"dataframe\">\n",
       "  <thead>\n",
       "    <tr style=\"text-align: right;\">\n",
       "      <th></th>\n",
       "      <th>TOTEXPPQ</th>\n",
       "      <th>FINCBTXM</th>\n",
       "    </tr>\n",
       "  </thead>\n",
       "  <tbody>\n",
       "    <tr>\n",
       "      <th>0</th>\n",
       "      <td>27956.9500</td>\n",
       "      <td>143671.0</td>\n",
       "    </tr>\n",
       "    <tr>\n",
       "      <th>1</th>\n",
       "      <td>15853.7499</td>\n",
       "      <td>54450.0</td>\n",
       "    </tr>\n",
       "    <tr>\n",
       "      <th>2</th>\n",
       "      <td>19793.0986</td>\n",
       "      <td>288646.8</td>\n",
       "    </tr>\n",
       "    <tr>\n",
       "      <th>3</th>\n",
       "      <td>11432.4500</td>\n",
       "      <td>23819.0</td>\n",
       "    </tr>\n",
       "    <tr>\n",
       "      <th>4</th>\n",
       "      <td>7660.7000</td>\n",
       "      <td>113219.0</td>\n",
       "    </tr>\n",
       "  </tbody>\n",
       "</table>\n",
       "</div>"
      ],
      "text/plain": [
       "     TOTEXPPQ  FINCBTXM\n",
       "0  27956.9500  143671.0\n",
       "1  15853.7499   54450.0\n",
       "2  19793.0986  288646.8\n",
       "3  11432.4500   23819.0\n",
       "4   7660.7000  113219.0"
      ]
     },
     "execution_count": 3,
     "metadata": {},
     "output_type": "execute_result"
    }
   ],
   "source": [
    "fmli154 = pd.read_csv(r'https://raw.githubusercontent.com/clayknappen/CE-Trees-and-Linear-Regression/master/fmli154.csv', \n",
    "                     usecols=['TOTEXPPQ', 'FINCBTXM'])\n",
    "fmli154.head()"
   ]
  },
  {
   "cell_type": "code",
   "execution_count": 4,
   "metadata": {},
   "outputs": [
    {
     "data": {
      "text/html": [
       "<div>\n",
       "<style scoped>\n",
       "    .dataframe tbody tr th:only-of-type {\n",
       "        vertical-align: middle;\n",
       "    }\n",
       "\n",
       "    .dataframe tbody tr th {\n",
       "        vertical-align: top;\n",
       "    }\n",
       "\n",
       "    .dataframe thead th {\n",
       "        text-align: right;\n",
       "    }\n",
       "</style>\n",
       "<table border=\"1\" class=\"dataframe\">\n",
       "  <thead>\n",
       "    <tr style=\"text-align: right;\">\n",
       "      <th></th>\n",
       "      <th>TOTEXPPQ</th>\n",
       "      <th>PERCENT</th>\n",
       "    </tr>\n",
       "    <tr>\n",
       "      <th>INCDECILE</th>\n",
       "      <th></th>\n",
       "      <th></th>\n",
       "    </tr>\n",
       "  </thead>\n",
       "  <tbody>\n",
       "    <tr>\n",
       "      <th>First</th>\n",
       "      <td>2.497354e+06</td>\n",
       "      <td>4.4</td>\n",
       "    </tr>\n",
       "    <tr>\n",
       "      <th>Second</th>\n",
       "      <td>2.570421e+06</td>\n",
       "      <td>4.5</td>\n",
       "    </tr>\n",
       "    <tr>\n",
       "      <th>Third</th>\n",
       "      <td>3.497662e+06</td>\n",
       "      <td>6.1</td>\n",
       "    </tr>\n",
       "    <tr>\n",
       "      <th>Fourth</th>\n",
       "      <td>3.793669e+06</td>\n",
       "      <td>6.6</td>\n",
       "    </tr>\n",
       "    <tr>\n",
       "      <th>Fifth</th>\n",
       "      <td>4.292540e+06</td>\n",
       "      <td>7.5</td>\n",
       "    </tr>\n",
       "    <tr>\n",
       "      <th>Sixth</th>\n",
       "      <td>5.231491e+06</td>\n",
       "      <td>9.2</td>\n",
       "    </tr>\n",
       "    <tr>\n",
       "      <th>Seventh</th>\n",
       "      <td>6.162790e+06</td>\n",
       "      <td>10.8</td>\n",
       "    </tr>\n",
       "    <tr>\n",
       "      <th>Eigth</th>\n",
       "      <td>7.119051e+06</td>\n",
       "      <td>12.5</td>\n",
       "    </tr>\n",
       "    <tr>\n",
       "      <th>Ninth</th>\n",
       "      <td>8.455215e+06</td>\n",
       "      <td>14.8</td>\n",
       "    </tr>\n",
       "    <tr>\n",
       "      <th>Tenth</th>\n",
       "      <td>1.342940e+07</td>\n",
       "      <td>23.5</td>\n",
       "    </tr>\n",
       "  </tbody>\n",
       "</table>\n",
       "</div>"
      ],
      "text/plain": [
       "               TOTEXPPQ  PERCENT\n",
       "INCDECILE                       \n",
       "First      2.497354e+06      4.4\n",
       "Second     2.570421e+06      4.5\n",
       "Third      3.497662e+06      6.1\n",
       "Fourth     3.793669e+06      6.6\n",
       "Fifth      4.292540e+06      7.5\n",
       "Sixth      5.231491e+06      9.2\n",
       "Seventh    6.162790e+06     10.8\n",
       "Eigth      7.119051e+06     12.5\n",
       "Ninth      8.455215e+06     14.8\n",
       "Tenth      1.342940e+07     23.5"
      ]
     },
     "execution_count": 4,
     "metadata": {},
     "output_type": "execute_result"
    }
   ],
   "source": [
    "deciles = ['First', 'Second', 'Third', 'Fourth', 'Fifth', \n",
    "           'Sixth', 'Seventh', 'Eigth', 'Ninth', 'Tenth']\n",
    "\n",
    "fmli154['INCDECILE'] = pd.qcut(fmli154['FINCBTXM'], 10, labels=deciles)\n",
    "\n",
    "tot_exp = fmli154['TOTEXPPQ'].sum()\n",
    "\n",
    "gp = fmli154.groupby('INCDECILE').agg({\n",
    "    'TOTEXPPQ' : np.sum\n",
    "})\n",
    "\n",
    "gp['PERCENT'] = round(100*(gp['TOTEXPPQ']/tot_exp), 1)\n",
    "gp"
   ]
  },
  {
   "cell_type": "code",
   "execution_count": 5,
   "metadata": {},
   "outputs": [
    {
     "data": {
      "text/plain": [
       "<Figure size 432x288 with 0 Axes>"
      ]
     },
     "metadata": {},
     "output_type": "display_data"
    },
    {
     "data": {
      "image/png": "[encoded data removed]",
      "text/plain": [
       "<Figure size 822.857x288 with 1 Axes>"
      ]
     },
     "metadata": {},
     "output_type": "display_data"
    }
   ],
   "source": [
    "waffle_plot(gp.index, gp['PERCENT'])"
   ]
  }
 ],
 "metadata": {
  "kernelspec": {
   "display_name": "Python 3",
   "language": "python",
   "name": "python3"
  },
  "language_info": {
   "codemirror_mode": {
    "name": "ipython",
    "version": 3
   },
   "file_extension": ".py",
   "mimetype": "text/x-python",
   "name": "python",
   "nbconvert_exporter": "python",
   "pygments_lexer": "ipython3",
   "version": "3.6.5"
  }
 },
 "nbformat": 4,
 "nbformat_minor": 2
}
